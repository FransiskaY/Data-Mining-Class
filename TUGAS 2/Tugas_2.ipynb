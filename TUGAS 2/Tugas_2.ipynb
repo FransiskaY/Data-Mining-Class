{
 "cells": [
  {
   "cell_type": "code",
   "execution_count": null,
   "metadata": {},
   "outputs": [],
   "source": [
    "# Data Cleaning"
   ]
  },
  {
   "cell_type": "code",
   "execution_count": 1,
   "metadata": {},
   "outputs": [],
   "source": [
    "import pandas as pd\n",
    "import numpy as np\n",
    "import matplotlib.pyplot as plt\n",
    "import seaborn as sns"
   ]
  },
  {
   "cell_type": "code",
   "execution_count": 2,
   "metadata": {
    "scrolled": true
   },
   "outputs": [],
   "source": [
    "data = pd.read_csv('BreastCancer.csv')"
   ]
  },
  {
   "cell_type": "code",
   "execution_count": 3,
   "metadata": {},
   "outputs": [
    {
     "data": {
      "text/plain": [
       "(116, 8)"
      ]
     },
     "execution_count": 3,
     "metadata": {},
     "output_type": "execute_result"
    }
   ],
   "source": [
    "data.shape"
   ]
  },
  {
   "cell_type": "code",
   "execution_count": 4,
   "metadata": {},
   "outputs": [
    {
     "data": {
      "text/html": [
       "<div>\n",
       "<style scoped>\n",
       "    .dataframe tbody tr th:only-of-type {\n",
       "        vertical-align: middle;\n",
       "    }\n",
       "\n",
       "    .dataframe tbody tr th {\n",
       "        vertical-align: top;\n",
       "    }\n",
       "\n",
       "    .dataframe thead th {\n",
       "        text-align: right;\n",
       "    }\n",
       "</style>\n",
       "<table border=\"1\" class=\"dataframe\">\n",
       "  <thead>\n",
       "    <tr style=\"text-align: right;\">\n",
       "      <th></th>\n",
       "      <th>Age</th>\n",
       "      <th>BMI</th>\n",
       "      <th>Glucose</th>\n",
       "      <th>Insulin</th>\n",
       "      <th>Leptin</th>\n",
       "      <th>Adiponectin</th>\n",
       "      <th>Resistin</th>\n",
       "      <th>Classification</th>\n",
       "    </tr>\n",
       "  </thead>\n",
       "  <tbody>\n",
       "    <tr>\n",
       "      <th>0</th>\n",
       "      <td>48</td>\n",
       "      <td>23.500000</td>\n",
       "      <td>70.0</td>\n",
       "      <td>2.707</td>\n",
       "      <td>8.8071</td>\n",
       "      <td>9.702400</td>\n",
       "      <td>7.99585</td>\n",
       "      <td>Cancer</td>\n",
       "    </tr>\n",
       "    <tr>\n",
       "      <th>1</th>\n",
       "      <td>83</td>\n",
       "      <td>20.690495</td>\n",
       "      <td>92.0</td>\n",
       "      <td>3.115</td>\n",
       "      <td>8.8438</td>\n",
       "      <td>5.429285</td>\n",
       "      <td>4.06405</td>\n",
       "      <td>Cancer</td>\n",
       "    </tr>\n",
       "    <tr>\n",
       "      <th>2</th>\n",
       "      <td>82</td>\n",
       "      <td>23.124670</td>\n",
       "      <td>91.0</td>\n",
       "      <td>4.498</td>\n",
       "      <td>17.9393</td>\n",
       "      <td>22.432040</td>\n",
       "      <td>9.27715</td>\n",
       "      <td>Cancer</td>\n",
       "    </tr>\n",
       "    <tr>\n",
       "      <th>3</th>\n",
       "      <td>68</td>\n",
       "      <td>21.367521</td>\n",
       "      <td>77.0</td>\n",
       "      <td>3.226</td>\n",
       "      <td>9.8827</td>\n",
       "      <td>7.169560</td>\n",
       "      <td>12.76600</td>\n",
       "      <td>Cancer</td>\n",
       "    </tr>\n",
       "    <tr>\n",
       "      <th>4</th>\n",
       "      <td>86</td>\n",
       "      <td>21.111111</td>\n",
       "      <td>92.0</td>\n",
       "      <td>3.549</td>\n",
       "      <td>6.6994</td>\n",
       "      <td>4.819240</td>\n",
       "      <td>10.57635</td>\n",
       "      <td>Cancer</td>\n",
       "    </tr>\n",
       "    <tr>\n",
       "      <th>5</th>\n",
       "      <td>49</td>\n",
       "      <td>22.854458</td>\n",
       "      <td>92.0</td>\n",
       "      <td>3.226</td>\n",
       "      <td>6.8317</td>\n",
       "      <td>13.679750</td>\n",
       "      <td>10.31760</td>\n",
       "      <td>Cancer</td>\n",
       "    </tr>\n",
       "    <tr>\n",
       "      <th>6</th>\n",
       "      <td>89</td>\n",
       "      <td>22.700000</td>\n",
       "      <td>77.0</td>\n",
       "      <td>4.690</td>\n",
       "      <td>6.9640</td>\n",
       "      <td>5.589865</td>\n",
       "      <td>12.93610</td>\n",
       "      <td>Cancer</td>\n",
       "    </tr>\n",
       "    <tr>\n",
       "      <th>7</th>\n",
       "      <td>76</td>\n",
       "      <td>23.800000</td>\n",
       "      <td>118.0</td>\n",
       "      <td>6.470</td>\n",
       "      <td>4.3110</td>\n",
       "      <td>13.251320</td>\n",
       "      <td>5.10420</td>\n",
       "      <td>Cancer</td>\n",
       "    </tr>\n",
       "    <tr>\n",
       "      <th>8</th>\n",
       "      <td>73</td>\n",
       "      <td>22.000000</td>\n",
       "      <td>97.0</td>\n",
       "      <td>3.350</td>\n",
       "      <td>4.4700</td>\n",
       "      <td>10.358725</td>\n",
       "      <td>6.28445</td>\n",
       "      <td>Cancer</td>\n",
       "    </tr>\n",
       "    <tr>\n",
       "      <th>9</th>\n",
       "      <td>75</td>\n",
       "      <td>23.000000</td>\n",
       "      <td>83.0</td>\n",
       "      <td>4.952</td>\n",
       "      <td>17.1270</td>\n",
       "      <td>11.578990</td>\n",
       "      <td>7.09130</td>\n",
       "      <td>Cancer</td>\n",
       "    </tr>\n",
       "    <tr>\n",
       "      <th>10</th>\n",
       "      <td>34</td>\n",
       "      <td>21.470000</td>\n",
       "      <td>78.0</td>\n",
       "      <td>3.469</td>\n",
       "      <td>14.5700</td>\n",
       "      <td>13.110000</td>\n",
       "      <td>6.92000</td>\n",
       "      <td>Cancer</td>\n",
       "    </tr>\n",
       "    <tr>\n",
       "      <th>11</th>\n",
       "      <td>29</td>\n",
       "      <td>23.010000</td>\n",
       "      <td>82.0</td>\n",
       "      <td>5.663</td>\n",
       "      <td>35.5900</td>\n",
       "      <td>26.720000</td>\n",
       "      <td>4.58000</td>\n",
       "      <td>Cancer</td>\n",
       "    </tr>\n",
       "    <tr>\n",
       "      <th>12</th>\n",
       "      <td>25</td>\n",
       "      <td>22.860000</td>\n",
       "      <td>82.0</td>\n",
       "      <td>4.090</td>\n",
       "      <td>20.4500</td>\n",
       "      <td>23.670000</td>\n",
       "      <td>5.14000</td>\n",
       "      <td>Cancer</td>\n",
       "    </tr>\n",
       "    <tr>\n",
       "      <th>13</th>\n",
       "      <td>24</td>\n",
       "      <td>18.670000</td>\n",
       "      <td>88.0</td>\n",
       "      <td>6.107</td>\n",
       "      <td>8.8800</td>\n",
       "      <td>36.060000</td>\n",
       "      <td>6.85000</td>\n",
       "      <td>Cancer</td>\n",
       "    </tr>\n",
       "    <tr>\n",
       "      <th>14</th>\n",
       "      <td>38</td>\n",
       "      <td>23.340000</td>\n",
       "      <td>75.0</td>\n",
       "      <td>5.782</td>\n",
       "      <td>15.2600</td>\n",
       "      <td>17.950000</td>\n",
       "      <td>9.35000</td>\n",
       "      <td>Cancer</td>\n",
       "    </tr>\n",
       "    <tr>\n",
       "      <th>15</th>\n",
       "      <td>44</td>\n",
       "      <td>20.760000</td>\n",
       "      <td>86.0</td>\n",
       "      <td>7.553</td>\n",
       "      <td>14.0900</td>\n",
       "      <td>20.320000</td>\n",
       "      <td>7.64000</td>\n",
       "      <td>Cancer</td>\n",
       "    </tr>\n",
       "    <tr>\n",
       "      <th>16</th>\n",
       "      <td>47</td>\n",
       "      <td>22.030000</td>\n",
       "      <td>84.0</td>\n",
       "      <td>2.869</td>\n",
       "      <td>26.6500</td>\n",
       "      <td>38.040000</td>\n",
       "      <td>3.32000</td>\n",
       "      <td>Cancer</td>\n",
       "    </tr>\n",
       "    <tr>\n",
       "      <th>17</th>\n",
       "      <td>61</td>\n",
       "      <td>32.038959</td>\n",
       "      <td>85.0</td>\n",
       "      <td>18.077</td>\n",
       "      <td>30.7729</td>\n",
       "      <td>7.780255</td>\n",
       "      <td>13.68392</td>\n",
       "      <td>Cancer</td>\n",
       "    </tr>\n",
       "    <tr>\n",
       "      <th>18</th>\n",
       "      <td>64</td>\n",
       "      <td>34.529723</td>\n",
       "      <td>95.0</td>\n",
       "      <td>4.427</td>\n",
       "      <td>21.2117</td>\n",
       "      <td>5.462620</td>\n",
       "      <td>6.70188</td>\n",
       "      <td>Cancer</td>\n",
       "    </tr>\n",
       "    <tr>\n",
       "      <th>19</th>\n",
       "      <td>32</td>\n",
       "      <td>36.512637</td>\n",
       "      <td>87.0</td>\n",
       "      <td>14.026</td>\n",
       "      <td>49.3727</td>\n",
       "      <td>5.100000</td>\n",
       "      <td>17.10223</td>\n",
       "      <td>Cancer</td>\n",
       "    </tr>\n",
       "  </tbody>\n",
       "</table>\n",
       "</div>"
      ],
      "text/plain": [
       "    Age        BMI  Glucose  Insulin   Leptin  Adiponectin  Resistin  \\\n",
       "0    48  23.500000     70.0    2.707   8.8071     9.702400   7.99585   \n",
       "1    83  20.690495     92.0    3.115   8.8438     5.429285   4.06405   \n",
       "2    82  23.124670     91.0    4.498  17.9393    22.432040   9.27715   \n",
       "3    68  21.367521     77.0    3.226   9.8827     7.169560  12.76600   \n",
       "4    86  21.111111     92.0    3.549   6.6994     4.819240  10.57635   \n",
       "5    49  22.854458     92.0    3.226   6.8317    13.679750  10.31760   \n",
       "6    89  22.700000     77.0    4.690   6.9640     5.589865  12.93610   \n",
       "7    76  23.800000    118.0    6.470   4.3110    13.251320   5.10420   \n",
       "8    73  22.000000     97.0    3.350   4.4700    10.358725   6.28445   \n",
       "9    75  23.000000     83.0    4.952  17.1270    11.578990   7.09130   \n",
       "10   34  21.470000     78.0    3.469  14.5700    13.110000   6.92000   \n",
       "11   29  23.010000     82.0    5.663  35.5900    26.720000   4.58000   \n",
       "12   25  22.860000     82.0    4.090  20.4500    23.670000   5.14000   \n",
       "13   24  18.670000     88.0    6.107   8.8800    36.060000   6.85000   \n",
       "14   38  23.340000     75.0    5.782  15.2600    17.950000   9.35000   \n",
       "15   44  20.760000     86.0    7.553  14.0900    20.320000   7.64000   \n",
       "16   47  22.030000     84.0    2.869  26.6500    38.040000   3.32000   \n",
       "17   61  32.038959     85.0   18.077  30.7729     7.780255  13.68392   \n",
       "18   64  34.529723     95.0    4.427  21.2117     5.462620   6.70188   \n",
       "19   32  36.512637     87.0   14.026  49.3727     5.100000  17.10223   \n",
       "\n",
       "   Classification  \n",
       "0          Cancer  \n",
       "1          Cancer  \n",
       "2          Cancer  \n",
       "3          Cancer  \n",
       "4          Cancer  \n",
       "5          Cancer  \n",
       "6          Cancer  \n",
       "7          Cancer  \n",
       "8          Cancer  \n",
       "9          Cancer  \n",
       "10         Cancer  \n",
       "11         Cancer  \n",
       "12         Cancer  \n",
       "13         Cancer  \n",
       "14         Cancer  \n",
       "15         Cancer  \n",
       "16         Cancer  \n",
       "17         Cancer  \n",
       "18         Cancer  \n",
       "19         Cancer  "
      ]
     },
     "execution_count": 4,
     "metadata": {},
     "output_type": "execute_result"
    }
   ],
   "source": [
    "data.head(n=20)"
   ]
  },
  {
   "cell_type": "code",
   "execution_count": 5,
   "metadata": {},
   "outputs": [
    {
     "data": {
      "text/html": [
       "<div>\n",
       "<style scoped>\n",
       "    .dataframe tbody tr th:only-of-type {\n",
       "        vertical-align: middle;\n",
       "    }\n",
       "\n",
       "    .dataframe tbody tr th {\n",
       "        vertical-align: top;\n",
       "    }\n",
       "\n",
       "    .dataframe thead th {\n",
       "        text-align: right;\n",
       "    }\n",
       "</style>\n",
       "<table border=\"1\" class=\"dataframe\">\n",
       "  <thead>\n",
       "    <tr style=\"text-align: right;\">\n",
       "      <th></th>\n",
       "      <th>Age</th>\n",
       "      <th>BMI</th>\n",
       "      <th>Glucose</th>\n",
       "      <th>Insulin</th>\n",
       "      <th>Leptin</th>\n",
       "      <th>Adiponectin</th>\n",
       "      <th>Resistin</th>\n",
       "      <th>Classification</th>\n",
       "    </tr>\n",
       "  </thead>\n",
       "  <tbody>\n",
       "    <tr>\n",
       "      <th>114</th>\n",
       "      <td>72</td>\n",
       "      <td>25.59</td>\n",
       "      <td>82.0</td>\n",
       "      <td>2.82</td>\n",
       "      <td>24.96</td>\n",
       "      <td>33.75</td>\n",
       "      <td>3.27</td>\n",
       "      <td>Healthy Control</td>\n",
       "    </tr>\n",
       "    <tr>\n",
       "      <th>115</th>\n",
       "      <td>86</td>\n",
       "      <td>27.18</td>\n",
       "      <td>138.0</td>\n",
       "      <td>19.91</td>\n",
       "      <td>90.28</td>\n",
       "      <td>14.11</td>\n",
       "      <td>4.35</td>\n",
       "      <td>Healthy Control</td>\n",
       "    </tr>\n",
       "  </tbody>\n",
       "</table>\n",
       "</div>"
      ],
      "text/plain": [
       "     Age    BMI  Glucose  Insulin  Leptin  Adiponectin  Resistin  \\\n",
       "114   72  25.59     82.0     2.82   24.96        33.75      3.27   \n",
       "115   86  27.18    138.0    19.91   90.28        14.11      4.35   \n",
       "\n",
       "      Classification  \n",
       "114  Healthy Control  \n",
       "115  Healthy Control  "
      ]
     },
     "execution_count": 5,
     "metadata": {},
     "output_type": "execute_result"
    }
   ],
   "source": [
    "data.tail(n=2)"
   ]
  },
  {
   "cell_type": "code",
   "execution_count": 6,
   "metadata": {},
   "outputs": [
    {
     "data": {
      "text/html": [
       "<div>\n",
       "<style scoped>\n",
       "    .dataframe tbody tr th:only-of-type {\n",
       "        vertical-align: middle;\n",
       "    }\n",
       "\n",
       "    .dataframe tbody tr th {\n",
       "        vertical-align: top;\n",
       "    }\n",
       "\n",
       "    .dataframe thead th {\n",
       "        text-align: right;\n",
       "    }\n",
       "</style>\n",
       "<table border=\"1\" class=\"dataframe\">\n",
       "  <thead>\n",
       "    <tr style=\"text-align: right;\">\n",
       "      <th></th>\n",
       "      <th>Age</th>\n",
       "      <th>BMI</th>\n",
       "      <th>Glucose</th>\n",
       "      <th>Insulin</th>\n",
       "      <th>Leptin</th>\n",
       "      <th>Adiponectin</th>\n",
       "      <th>Resistin</th>\n",
       "    </tr>\n",
       "  </thead>\n",
       "  <tbody>\n",
       "    <tr>\n",
       "      <th>count</th>\n",
       "      <td>116.000000</td>\n",
       "      <td>112.000000</td>\n",
       "      <td>115.000000</td>\n",
       "      <td>115.000000</td>\n",
       "      <td>116.000000</td>\n",
       "      <td>115.000000</td>\n",
       "      <td>115.000000</td>\n",
       "    </tr>\n",
       "    <tr>\n",
       "      <th>mean</th>\n",
       "      <td>57.301724</td>\n",
       "      <td>27.589840</td>\n",
       "      <td>98.034783</td>\n",
       "      <td>9.941957</td>\n",
       "      <td>26.615080</td>\n",
       "      <td>10.184783</td>\n",
       "      <td>14.578449</td>\n",
       "    </tr>\n",
       "    <tr>\n",
       "      <th>std</th>\n",
       "      <td>16.112766</td>\n",
       "      <td>5.102647</td>\n",
       "      <td>22.472178</td>\n",
       "      <td>10.083331</td>\n",
       "      <td>19.183294</td>\n",
       "      <td>6.873161</td>\n",
       "      <td>12.342139</td>\n",
       "    </tr>\n",
       "    <tr>\n",
       "      <th>min</th>\n",
       "      <td>24.000000</td>\n",
       "      <td>18.370000</td>\n",
       "      <td>60.000000</td>\n",
       "      <td>2.432000</td>\n",
       "      <td>4.311000</td>\n",
       "      <td>1.656020</td>\n",
       "      <td>3.210000</td>\n",
       "    </tr>\n",
       "    <tr>\n",
       "      <th>25%</th>\n",
       "      <td>45.000000</td>\n",
       "      <td>22.884615</td>\n",
       "      <td>86.000000</td>\n",
       "      <td>4.354500</td>\n",
       "      <td>12.313675</td>\n",
       "      <td>5.470395</td>\n",
       "      <td>6.871175</td>\n",
       "    </tr>\n",
       "    <tr>\n",
       "      <th>50%</th>\n",
       "      <td>56.000000</td>\n",
       "      <td>27.662416</td>\n",
       "      <td>92.000000</td>\n",
       "      <td>5.819000</td>\n",
       "      <td>20.271000</td>\n",
       "      <td>8.300955</td>\n",
       "      <td>10.695480</td>\n",
       "    </tr>\n",
       "    <tr>\n",
       "      <th>75%</th>\n",
       "      <td>71.000000</td>\n",
       "      <td>31.250000</td>\n",
       "      <td>102.000000</td>\n",
       "      <td>10.826500</td>\n",
       "      <td>37.378300</td>\n",
       "      <td>11.843980</td>\n",
       "      <td>17.465590</td>\n",
       "    </tr>\n",
       "    <tr>\n",
       "      <th>max</th>\n",
       "      <td>89.000000</td>\n",
       "      <td>38.578759</td>\n",
       "      <td>201.000000</td>\n",
       "      <td>58.460000</td>\n",
       "      <td>90.280000</td>\n",
       "      <td>38.040000</td>\n",
       "      <td>82.100000</td>\n",
       "    </tr>\n",
       "  </tbody>\n",
       "</table>\n",
       "</div>"
      ],
      "text/plain": [
       "              Age         BMI     Glucose     Insulin      Leptin  \\\n",
       "count  116.000000  112.000000  115.000000  115.000000  116.000000   \n",
       "mean    57.301724   27.589840   98.034783    9.941957   26.615080   \n",
       "std     16.112766    5.102647   22.472178   10.083331   19.183294   \n",
       "min     24.000000   18.370000   60.000000    2.432000    4.311000   \n",
       "25%     45.000000   22.884615   86.000000    4.354500   12.313675   \n",
       "50%     56.000000   27.662416   92.000000    5.819000   20.271000   \n",
       "75%     71.000000   31.250000  102.000000   10.826500   37.378300   \n",
       "max     89.000000   38.578759  201.000000   58.460000   90.280000   \n",
       "\n",
       "       Adiponectin    Resistin  \n",
       "count   115.000000  115.000000  \n",
       "mean     10.184783   14.578449  \n",
       "std       6.873161   12.342139  \n",
       "min       1.656020    3.210000  \n",
       "25%       5.470395    6.871175  \n",
       "50%       8.300955   10.695480  \n",
       "75%      11.843980   17.465590  \n",
       "max      38.040000   82.100000  "
      ]
     },
     "execution_count": 6,
     "metadata": {},
     "output_type": "execute_result"
    }
   ],
   "source": [
    "data.describe()"
   ]
  },
  {
   "cell_type": "code",
   "execution_count": 8,
   "metadata": {},
   "outputs": [
    {
     "data": {
      "text/plain": [
       "Cancer             76\n",
       "Healthy Control    40\n",
       "Name: Classification, dtype: int64"
      ]
     },
     "execution_count": 8,
     "metadata": {},
     "output_type": "execute_result"
    }
   ],
   "source": [
    "data['Classification'].value_counts()"
   ]
  },
  {
   "cell_type": "code",
   "execution_count": 9,
   "metadata": {},
   "outputs": [
    {
     "name": "stdout",
     "output_type": "stream",
     "text": [
      "<class 'pandas.core.frame.DataFrame'>\n",
      "RangeIndex: 116 entries, 0 to 115\n",
      "Data columns (total 8 columns):\n",
      "Age               116 non-null int64\n",
      "BMI               112 non-null float64\n",
      "Glucose           115 non-null float64\n",
      "Insulin           115 non-null float64\n",
      "Leptin            116 non-null float64\n",
      "Adiponectin       115 non-null float64\n",
      "Resistin          115 non-null float64\n",
      "Classification    116 non-null object\n",
      "dtypes: float64(6), int64(1), object(1)\n",
      "memory usage: 6.8+ KB\n"
     ]
    }
   ],
   "source": [
    "data.info()"
   ]
  },
  {
   "cell_type": "code",
   "execution_count": null,
   "metadata": {},
   "outputs": [],
   "source": [
    "# Imputasi missing value"
   ]
  },
  {
   "cell_type": "code",
   "execution_count": 10,
   "metadata": {},
   "outputs": [
    {
     "data": {
      "text/plain": [
       "Age               0\n",
       "BMI               4\n",
       "Glucose           1\n",
       "Insulin           1\n",
       "Leptin            0\n",
       "Adiponectin       1\n",
       "Resistin          1\n",
       "Classification    0\n",
       "dtype: int64"
      ]
     },
     "execution_count": 10,
     "metadata": {},
     "output_type": "execute_result"
    }
   ],
   "source": [
    "np.sum(data.isnull())"
   ]
  },
  {
   "cell_type": "code",
   "execution_count": 11,
   "metadata": {},
   "outputs": [
    {
     "data": {
      "text/plain": [
       "Age               0\n",
       "BMI               4\n",
       "Glucose           1\n",
       "Insulin           1\n",
       "Leptin            0\n",
       "Adiponectin       1\n",
       "Resistin          1\n",
       "Classification    0\n",
       "dtype: int64"
      ]
     },
     "execution_count": 11,
     "metadata": {},
     "output_type": "execute_result"
    }
   ],
   "source": [
    "data.isnull().sum()"
   ]
  },
  {
   "cell_type": "code",
   "execution_count": 58,
   "metadata": {},
   "outputs": [
    {
     "data": {
      "text/plain": [
       "1183"
      ]
     },
     "execution_count": 58,
     "metadata": {},
     "output_type": "execute_result"
    }
   ],
   "source": [
    "data.isnull().sum().sum()"
   ]
  },
  {
   "cell_type": "code",
   "execution_count": 12,
   "metadata": {},
   "outputs": [
    {
     "data": {
      "text/plain": [
       "Age               False\n",
       "BMI               False\n",
       "Glucose            True\n",
       "Insulin            True\n",
       "Leptin            False\n",
       "Adiponectin        True\n",
       "Resistin           True\n",
       "Classification    False\n",
       "dtype: bool"
      ]
     },
     "execution_count": 12,
     "metadata": {},
     "output_type": "execute_result"
    }
   ],
   "source": [
    "#imputasi missing value data numerik\n",
    "data['BMI'] = data['BMI'].fillna((data['BMI'].mean())) \n",
    "data['Age'] = data['Age'].fillna((data['Age'].median()))\n",
    "data.isnull().any()"
   ]
  },
  {
   "cell_type": "code",
   "execution_count": 13,
   "metadata": {},
   "outputs": [
    {
     "data": {
      "text/plain": [
       "Age               False\n",
       "BMI               False\n",
       "Glucose            True\n",
       "Insulin           False\n",
       "Leptin            False\n",
       "Adiponectin        True\n",
       "Resistin           True\n",
       "Classification    False\n",
       "dtype: bool"
      ]
     },
     "execution_count": 13,
     "metadata": {},
     "output_type": "execute_result"
    }
   ],
   "source": [
    "# imputasi untuk data numerik yang lain\n",
    "data['BMI']=data['BMI'].fillna(99)\n",
    "data['Insulin']=data['Insulin'].fillna(111)\n",
    "data.isnull().any()"
   ]
  },
  {
   "cell_type": "code",
   "execution_count": 14,
   "metadata": {},
   "outputs": [
    {
     "data": {
      "text/plain": [
       "Age               False\n",
       "BMI               False\n",
       "Glucose            True\n",
       "Insulin           False\n",
       "Leptin            False\n",
       "Adiponectin        True\n",
       "Resistin           True\n",
       "Classification    False\n",
       "dtype: bool"
      ]
     },
     "execution_count": 14,
     "metadata": {},
     "output_type": "execute_result"
    }
   ],
   "source": [
    "#imputasi data kategorik dengan modus\n",
    "data['Age'] = data.fillna(data['Age'].value_counts().index[0])\n",
    "data.isnull().any()"
   ]
  },
  {
   "cell_type": "code",
   "execution_count": 15,
   "metadata": {},
   "outputs": [
    {
     "data": {
      "text/plain": [
       "Age               False\n",
       "BMI               False\n",
       "Glucose           False\n",
       "Insulin           False\n",
       "Leptin            False\n",
       "Adiponectin       False\n",
       "Resistin          False\n",
       "Classification    False\n",
       "dtype: bool"
      ]
     },
     "execution_count": 15,
     "metadata": {},
     "output_type": "execute_result"
    }
   ],
   "source": [
    "#imputasi data kategorik dengan modus sesuai kolom masing2\n",
    "data = data.apply(lambda x:x.fillna(x.value_counts().index[0]))\n",
    "data.isnull().any()"
   ]
  },
  {
   "cell_type": "code",
   "execution_count": 16,
   "metadata": {},
   "outputs": [],
   "source": [
    "# Encode Labels"
   ]
  },
  {
   "cell_type": "code",
   "execution_count": 17,
   "metadata": {},
   "outputs": [],
   "source": [
    "from sklearn.preprocessing import LabelEncoder"
   ]
  },
  {
   "cell_type": "code",
   "execution_count": 18,
   "metadata": {},
   "outputs": [
    {
     "data": {
      "text/html": [
       "<div>\n",
       "<style scoped>\n",
       "    .dataframe tbody tr th:only-of-type {\n",
       "        vertical-align: middle;\n",
       "    }\n",
       "\n",
       "    .dataframe tbody tr th {\n",
       "        vertical-align: top;\n",
       "    }\n",
       "\n",
       "    .dataframe thead th {\n",
       "        text-align: right;\n",
       "    }\n",
       "</style>\n",
       "<table border=\"1\" class=\"dataframe\">\n",
       "  <thead>\n",
       "    <tr style=\"text-align: right;\">\n",
       "      <th></th>\n",
       "      <th>Age</th>\n",
       "      <th>BMI</th>\n",
       "      <th>Glucose</th>\n",
       "      <th>Insulin</th>\n",
       "      <th>Leptin</th>\n",
       "      <th>Adiponectin</th>\n",
       "      <th>Resistin</th>\n",
       "      <th>Classification</th>\n",
       "    </tr>\n",
       "  </thead>\n",
       "  <tbody>\n",
       "    <tr>\n",
       "      <th>0</th>\n",
       "      <td>17</td>\n",
       "      <td>33</td>\n",
       "      <td>1</td>\n",
       "      <td>3</td>\n",
       "      <td>14</td>\n",
       "      <td>68</td>\n",
       "      <td>37</td>\n",
       "      <td>0</td>\n",
       "    </tr>\n",
       "    <tr>\n",
       "      <th>1</th>\n",
       "      <td>47</td>\n",
       "      <td>5</td>\n",
       "      <td>19</td>\n",
       "      <td>9</td>\n",
       "      <td>15</td>\n",
       "      <td>26</td>\n",
       "      <td>4</td>\n",
       "      <td>0</td>\n",
       "    </tr>\n",
       "    <tr>\n",
       "      <th>2</th>\n",
       "      <td>46</td>\n",
       "      <td>30</td>\n",
       "      <td>18</td>\n",
       "      <td>33</td>\n",
       "      <td>50</td>\n",
       "      <td>107</td>\n",
       "      <td>45</td>\n",
       "      <td>0</td>\n",
       "    </tr>\n",
       "    <tr>\n",
       "      <th>3</th>\n",
       "      <td>35</td>\n",
       "      <td>14</td>\n",
       "      <td>5</td>\n",
       "      <td>11</td>\n",
       "      <td>21</td>\n",
       "      <td>41</td>\n",
       "      <td>66</td>\n",
       "      <td>0</td>\n",
       "    </tr>\n",
       "    <tr>\n",
       "      <th>4</th>\n",
       "      <td>49</td>\n",
       "      <td>11</td>\n",
       "      <td>19</td>\n",
       "      <td>19</td>\n",
       "      <td>4</td>\n",
       "      <td>20</td>\n",
       "      <td>56</td>\n",
       "      <td>0</td>\n",
       "    </tr>\n",
       "  </tbody>\n",
       "</table>\n",
       "</div>"
      ],
      "text/plain": [
       "   Age  BMI  Glucose  Insulin  Leptin  Adiponectin  Resistin  Classification\n",
       "0   17   33        1        3      14           68        37               0\n",
       "1   47    5       19        9      15           26         4               0\n",
       "2   46   30       18       33      50          107        45               0\n",
       "3   35   14        5       11      21           41        66               0\n",
       "4   49   11       19       19       4           20        56               0"
      ]
     },
     "execution_count": 18,
     "metadata": {},
     "output_type": "execute_result"
    }
   ],
   "source": [
    "# Encode untuk Sex, Steroid, Anaroxia, Spleen Pabable, Spiders tanpa membuat kolom baru\n",
    "data['Age'] = LabelEncoder().fit_transform(data['Age'])\n",
    "data['BMI'] = LabelEncoder().fit_transform(data['BMI'])\n",
    "data['Glucose'] = LabelEncoder().fit_transform(data['Glucose'])\n",
    "data['Insulin'] = LabelEncoder().fit_transform(data['Insulin'])\n",
    "data['Leptin'] = LabelEncoder().fit_transform(data['Leptin'])\n",
    "data['Adiponectin'] = LabelEncoder().fit_transform(data['Adiponectin'])\n",
    "data['Resistin'] = LabelEncoder().fit_transform(data['Resistin'])\n",
    "data['Classification'] = LabelEncoder().fit_transform(data['Classification'])\n",
    "data.head()"
   ]
  },
  {
   "cell_type": "code",
   "execution_count": null,
   "metadata": {},
   "outputs": [],
   "source": [
    "## Standardize"
   ]
  },
  {
   "cell_type": "code",
   "execution_count": 21,
   "metadata": {},
   "outputs": [],
   "source": [
    "from sklearn.preprocessing import StandardScaler"
   ]
  },
  {
   "cell_type": "code",
   "execution_count": 22,
   "metadata": {},
   "outputs": [
    {
     "name": "stderr",
     "output_type": "stream",
     "text": [
      "C:\\Users\\ASPIRE\\Anaconda3\\lib\\site-packages\\sklearn\\preprocessing\\data.py:625: DataConversionWarning: Data with input dtype int32 were all converted to float64 by StandardScaler.\n",
      "  return self.partial_fit(X, y)\n",
      "C:\\Users\\ASPIRE\\Anaconda3\\lib\\site-packages\\ipykernel_launcher.py:5: DataConversionWarning: Data with input dtype int32 were all converted to float64 by StandardScaler.\n",
      "  \"\"\"\n"
     ]
    }
   ],
   "source": [
    "data['Age'] = StandardScaler().fit(data[['Age']]).transform(data[['Age']])\n",
    "data['Classification'] = StandardScaler().fit(data[['Classification']]).transform(data[['Classification']])\n",
    "data['Adiponectin'] = StandardScaler().fit(data[['Adiponectin']]).transform(data[['Adiponectin']])\n",
    "data['Leptin'] = StandardScaler().fit(data[['Leptin']]).transform(data[['Leptin']])\n",
    "data['Resistin'] = StandardScaler().fit(data[['Resistin']]).transform(data[['Resistin']])"
   ]
  },
  {
   "cell_type": "code",
   "execution_count": 23,
   "metadata": {},
   "outputs": [
    {
     "data": {
      "text/html": [
       "<div>\n",
       "<style scoped>\n",
       "    .dataframe tbody tr th:only-of-type {\n",
       "        vertical-align: middle;\n",
       "    }\n",
       "\n",
       "    .dataframe tbody tr th {\n",
       "        vertical-align: top;\n",
       "    }\n",
       "\n",
       "    .dataframe thead th {\n",
       "        text-align: right;\n",
       "    }\n",
       "</style>\n",
       "<table border=\"1\" class=\"dataframe\">\n",
       "  <thead>\n",
       "    <tr style=\"text-align: right;\">\n",
       "      <th></th>\n",
       "      <th>Age</th>\n",
       "      <th>BMI</th>\n",
       "      <th>Glucose</th>\n",
       "      <th>Insulin</th>\n",
       "      <th>Leptin</th>\n",
       "      <th>Adiponectin</th>\n",
       "      <th>Resistin</th>\n",
       "      <th>Classification</th>\n",
       "    </tr>\n",
       "  </thead>\n",
       "  <tbody>\n",
       "    <tr>\n",
       "      <th>0</th>\n",
       "      <td>-0.603124</td>\n",
       "      <td>33</td>\n",
       "      <td>1</td>\n",
       "      <td>3</td>\n",
       "      <td>-1.299086</td>\n",
       "      <td>0.372814</td>\n",
       "      <td>-0.602551</td>\n",
       "      <td>-0.725476</td>\n",
       "    </tr>\n",
       "    <tr>\n",
       "      <th>1</th>\n",
       "      <td>1.578655</td>\n",
       "      <td>5</td>\n",
       "      <td>19</td>\n",
       "      <td>9</td>\n",
       "      <td>-1.269222</td>\n",
       "      <td>-0.884176</td>\n",
       "      <td>-1.600632</td>\n",
       "      <td>-0.725476</td>\n",
       "    </tr>\n",
       "    <tr>\n",
       "      <th>2</th>\n",
       "      <td>1.505929</td>\n",
       "      <td>30</td>\n",
       "      <td>18</td>\n",
       "      <td>33</td>\n",
       "      <td>-0.223980</td>\n",
       "      <td>1.540020</td>\n",
       "      <td>-0.360592</td>\n",
       "      <td>-0.725476</td>\n",
       "    </tr>\n",
       "    <tr>\n",
       "      <th>3</th>\n",
       "      <td>0.705943</td>\n",
       "      <td>14</td>\n",
       "      <td>5</td>\n",
       "      <td>11</td>\n",
       "      <td>-1.090038</td>\n",
       "      <td>-0.435251</td>\n",
       "      <td>0.274550</td>\n",
       "      <td>-0.725476</td>\n",
       "    </tr>\n",
       "    <tr>\n",
       "      <th>4</th>\n",
       "      <td>1.724107</td>\n",
       "      <td>11</td>\n",
       "      <td>19</td>\n",
       "      <td>19</td>\n",
       "      <td>-1.597727</td>\n",
       "      <td>-1.063746</td>\n",
       "      <td>-0.027898</td>\n",
       "      <td>-0.725476</td>\n",
       "    </tr>\n",
       "  </tbody>\n",
       "</table>\n",
       "</div>"
      ],
      "text/plain": [
       "        Age  BMI  Glucose  Insulin    Leptin  Adiponectin  Resistin  \\\n",
       "0 -0.603124   33        1        3 -1.299086     0.372814 -0.602551   \n",
       "1  1.578655    5       19        9 -1.269222    -0.884176 -1.600632   \n",
       "2  1.505929   30       18       33 -0.223980     1.540020 -0.360592   \n",
       "3  0.705943   14        5       11 -1.090038    -0.435251  0.274550   \n",
       "4  1.724107   11       19       19 -1.597727    -1.063746 -0.027898   \n",
       "\n",
       "   Classification  \n",
       "0       -0.725476  \n",
       "1       -0.725476  \n",
       "2       -0.725476  \n",
       "3       -0.725476  \n",
       "4       -0.725476  "
      ]
     },
     "execution_count": 23,
     "metadata": {},
     "output_type": "execute_result"
    }
   ],
   "source": [
    "data.head()"
   ]
  },
  {
   "cell_type": "code",
   "execution_count": null,
   "metadata": {},
   "outputs": [],
   "source": [
    "# Normalize"
   ]
  },
  {
   "cell_type": "code",
   "execution_count": 24,
   "metadata": {},
   "outputs": [],
   "source": [
    "from sklearn.preprocessing import Normalizer "
   ]
  },
  {
   "cell_type": "code",
   "execution_count": 25,
   "metadata": {},
   "outputs": [],
   "source": [
    "data['Age'] = Normalizer().fit(data[['Age']]).transform(data[['Age']])\n",
    "data['BMI'] = Normalizer().fit(data[['BMI']]).transform(data[['BMI']])\n",
    "data['Adiponectin'] = Normalizer().fit(data[['Adiponectin']]).transform(data[['Adiponectin']])"
   ]
  },
  {
   "cell_type": "code",
   "execution_count": 26,
   "metadata": {},
   "outputs": [
    {
     "data": {
      "text/html": [
       "<div>\n",
       "<style scoped>\n",
       "    .dataframe tbody tr th:only-of-type {\n",
       "        vertical-align: middle;\n",
       "    }\n",
       "\n",
       "    .dataframe tbody tr th {\n",
       "        vertical-align: top;\n",
       "    }\n",
       "\n",
       "    .dataframe thead th {\n",
       "        text-align: right;\n",
       "    }\n",
       "</style>\n",
       "<table border=\"1\" class=\"dataframe\">\n",
       "  <thead>\n",
       "    <tr style=\"text-align: right;\">\n",
       "      <th></th>\n",
       "      <th>Age</th>\n",
       "      <th>BMI</th>\n",
       "      <th>Glucose</th>\n",
       "      <th>Insulin</th>\n",
       "      <th>Leptin</th>\n",
       "      <th>Adiponectin</th>\n",
       "      <th>Resistin</th>\n",
       "      <th>Classification</th>\n",
       "    </tr>\n",
       "  </thead>\n",
       "  <tbody>\n",
       "    <tr>\n",
       "      <th>0</th>\n",
       "      <td>-1.0</td>\n",
       "      <td>1.0</td>\n",
       "      <td>1</td>\n",
       "      <td>3</td>\n",
       "      <td>-1.299086</td>\n",
       "      <td>1.0</td>\n",
       "      <td>-0.602551</td>\n",
       "      <td>-0.725476</td>\n",
       "    </tr>\n",
       "    <tr>\n",
       "      <th>1</th>\n",
       "      <td>1.0</td>\n",
       "      <td>1.0</td>\n",
       "      <td>19</td>\n",
       "      <td>9</td>\n",
       "      <td>-1.269222</td>\n",
       "      <td>-1.0</td>\n",
       "      <td>-1.600632</td>\n",
       "      <td>-0.725476</td>\n",
       "    </tr>\n",
       "    <tr>\n",
       "      <th>2</th>\n",
       "      <td>1.0</td>\n",
       "      <td>1.0</td>\n",
       "      <td>18</td>\n",
       "      <td>33</td>\n",
       "      <td>-0.223980</td>\n",
       "      <td>1.0</td>\n",
       "      <td>-0.360592</td>\n",
       "      <td>-0.725476</td>\n",
       "    </tr>\n",
       "    <tr>\n",
       "      <th>3</th>\n",
       "      <td>1.0</td>\n",
       "      <td>1.0</td>\n",
       "      <td>5</td>\n",
       "      <td>11</td>\n",
       "      <td>-1.090038</td>\n",
       "      <td>-1.0</td>\n",
       "      <td>0.274550</td>\n",
       "      <td>-0.725476</td>\n",
       "    </tr>\n",
       "    <tr>\n",
       "      <th>4</th>\n",
       "      <td>1.0</td>\n",
       "      <td>1.0</td>\n",
       "      <td>19</td>\n",
       "      <td>19</td>\n",
       "      <td>-1.597727</td>\n",
       "      <td>-1.0</td>\n",
       "      <td>-0.027898</td>\n",
       "      <td>-0.725476</td>\n",
       "    </tr>\n",
       "  </tbody>\n",
       "</table>\n",
       "</div>"
      ],
      "text/plain": [
       "   Age  BMI  Glucose  Insulin    Leptin  Adiponectin  Resistin  Classification\n",
       "0 -1.0  1.0        1        3 -1.299086          1.0 -0.602551       -0.725476\n",
       "1  1.0  1.0       19        9 -1.269222         -1.0 -1.600632       -0.725476\n",
       "2  1.0  1.0       18       33 -0.223980          1.0 -0.360592       -0.725476\n",
       "3  1.0  1.0        5       11 -1.090038         -1.0  0.274550       -0.725476\n",
       "4  1.0  1.0       19       19 -1.597727         -1.0 -0.027898       -0.725476"
      ]
     },
     "execution_count": 26,
     "metadata": {},
     "output_type": "execute_result"
    }
   ],
   "source": [
    "data.head()"
   ]
  },
  {
   "cell_type": "code",
   "execution_count": null,
   "metadata": {},
   "outputs": [],
   "source": []
  },
  {
   "cell_type": "code",
   "execution_count": null,
   "metadata": {},
   "outputs": [],
   "source": []
  }
 ],
 "metadata": {
  "kernelspec": {
   "display_name": "Python 3",
   "language": "python",
   "name": "python3"
  },
  "language_info": {
   "codemirror_mode": {
    "name": "ipython",
    "version": 3
   },
   "file_extension": ".py",
   "mimetype": "text/x-python",
   "name": "python",
   "nbconvert_exporter": "python",
   "pygments_lexer": "ipython3",
   "version": "3.7.1"
  }
 },
 "nbformat": 4,
 "nbformat_minor": 2
}
